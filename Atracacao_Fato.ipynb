{
 "cells": [
  {
   "cell_type": "code",
   "execution_count": null,
   "metadata": {},
   "outputs": [],
   "source": [
    "import mysql.connector\n",
    "from mysql.connector import Error\n",
    "import pandas as pd"
   ]
  },
  {
   "cell_type": "code",
   "execution_count": null,
   "metadata": {},
   "outputs": [],
   "source": [
    "def create_server_connection(host_name, user_name, user_password):\n",
    "    connection = None\n",
    "    try:\n",
    "        connection = mysql.connector.connect(\n",
    "            host=host_name,\n",
    "            user=user_name,\n",
    "            passwd=user_password\n",
    "        )\n",
    "        print(\"MySQL Database connection successful\")\n",
    "    except Error as err:\n",
    "        print(f\"Error: '{err}'\")\n",
    "\n",
    "    return connection"
   ]
  },
  {
   "cell_type": "code",
   "execution_count": null,
   "metadata": {},
   "outputs": [],
   "source": [
    "pw= #senha"
   ]
  },
  {
   "cell_type": "code",
   "execution_count": null,
   "metadata": {},
   "outputs": [],
   "source": [
    "connection = create_server_connection(\"localhost\", \"root\", pw)"
   ]
  },
  {
   "cell_type": "code",
   "execution_count": null,
   "metadata": {},
   "outputs": [],
   "source": [
    "def create_database(connection, query):\n",
    "    cursor = connection.cursor()\n",
    "    try:\n",
    "        cursor.execute(query)\n",
    "        print(\"Database created successfully\")\n",
    "    except Error as err:\n",
    "        print(f\"Error: '{err}'\")"
   ]
  },
  {
   "cell_type": "code",
   "execution_count": null,
   "metadata": {},
   "outputs": [],
   "source": [
    "create_database_querry=\"CREATE DATABASE FIEC\"\n",
    "create_database(connection,create_database_querry)"
   ]
  },
  {
   "cell_type": "code",
   "execution_count": null,
   "metadata": {},
   "outputs": [],
   "source": [
    "def create_db_connection(host_name, user_name, user_password, db_name):\n",
    "    connection = None\n",
    "    try:\n",
    "        connection = mysql.connector.connect(\n",
    "            host=host_name,\n",
    "            user=user_name,\n",
    "            passwd=user_password,\n",
    "            database=db_name\n",
    "        )\n",
    "        print(\"MySQL Database connection successful\")\n",
    "    except Error as err:\n",
    "        print(f\"Error: '{err}'\")\n",
    "\n",
    "    return connection"
   ]
  },
  {
   "cell_type": "code",
   "execution_count": null,
   "metadata": {},
   "outputs": [],
   "source": [
    "def execute_query(connection, query):\n",
    "    cursor = connection.cursor()\n",
    "    try:\n",
    "        cursor.execute(query)\n",
    "        connection.commit()\n",
    "        print(\"Query successful\")\n",
    "        \n",
    "    except Error as err:\n",
    "        print(f\"Error: '{err}'\")\n",
    "        \n",
    "def execute_query2(connection, query):\n",
    "    cursor = connection.cursor(buffered=True)\n",
    "    try:\n",
    "        cursor.execute(query)\n",
    "        connection.commit()\n",
    "        row=cursor.fetchone()\n",
    "        print(row)\n",
    "        connection.commit()\n",
    "        print(\"Query successful\")\n",
    "    except Error as err:\n",
    "        print(f\"Error: '{err}'\")"
   ]
  },
  {
   "cell_type": "code",
   "execution_count": null,
   "metadata": {},
   "outputs": [],
   "source": [
    "query_criar_tabela_atracacao=\"\"\"\n",
    "CREATE TABLE atracacao2017 (\n",
    "  id_atracacao INT,\n",
    "  cdtup CHAR(80),\n",
    "  idberco CHAR(80),\n",
    "  berco CHAR(80),\n",
    "  porto_atracacao VARCHAR(100),\n",
    "  apelido_instalacao_portuaria CHAR(80),\n",
    "  complexo_portuario CHAR(80),\n",
    "  tipo_da_autoridade_portuaria CHAR(80),\n",
    "  data_atracacao CHAR(80),\n",
    "  data_chegada CHAR(80),\n",
    "  data_desatracacao CHAR(80),\n",
    "  data_inicio_operacao CHAR(80),\n",
    "  Data_Termino_Operacao CHAR(80),\n",
    "  Ano INT,\n",
    "  Mes CHAR(80),\n",
    "  Tipo_de_Operacao CHAR(80),\n",
    "  Tipo_de_Navegacao_da_Atracacao CHAR(80),\n",
    "  Nacionalidade_do_Armador CHAR(80),\n",
    "  FlagMCOperacaoAtracacao INT,\n",
    "  Terminal CHAR(80),\n",
    "  Municipio CHAR(80),\n",
    "  UF CHAR(80),\n",
    "  SGUF CHAR(80),\n",
    "  Regiao_Geografica CHAR(80),\n",
    "  No_da_Capitania CHAR(80)\n",
    "  );\n",
    "\"\"\"\n",
    "connection = create_db_connection(\"localhost\", \"root\", pw, \"FIEC\")\n",
    "execute_query(connection, query_criar_tabela_atracacao)"
   ]
  },
  {
   "cell_type": "code",
   "execution_count": null,
   "metadata": {},
   "outputs": [],
   "source": [
    "query_atracacao='''\n",
    "LOAD DATA INFILE 'C:/ProgramData/MySQL/MySQL Server 8.0/Uploads/atracacao/2017Atracacao.txt' \n",
    "\n",
    "INTO TABLE Atracacao2017\n",
    "\n",
    "FIELDS TERMINATED BY ';'\n",
    "\n",
    "LINES TERMINATED BY '\\n'\n",
    "\n",
    "IGNORE 1 LINES\n",
    "\n",
    "(id_atracacao,cdtup,IDBerco,Berco,Porto_Atracacao,Apelido_Instalacao_Portuaria,Complexo_Portuario,Tipo_da_Autoridade_Portuaria,Data_Atracacao,Data_Chegada,Data_Desatracacao,Data_Inicio_Operacao,Data_Termino_Operacao,Ano,Mes,Tipo_de_Operacao,Tipo_de_Navegacao_da_Atracacao,Nacionalidade_do_Armador,FlagMCOperacaoAtracacao,Terminal,Municipio,UF,SGUF,Regiao_Geografica, @vNo_da_Capitania)\n",
    "SET No_da_Capitania = NULLIF(@vNo_da_Capitania,'');\n",
    "\n",
    "'''\n",
    "\n",
    "connection = create_db_connection(\"localhost\", \"root\", pw, \"FIEC\")\n",
    "execute_query(connection, query_atracacao)"
   ]
  },
  {
   "cell_type": "code",
   "execution_count": null,
   "metadata": {},
   "outputs": [],
   "source": [
    "query_atracacao='''\n",
    "SELECT * FROM atracacao2017;\n",
    "\n",
    "'''\n",
    "\n",
    "connection = create_db_connection(\"localhost\", \"root\", pw, \"FIEC\")\n",
    "execute_query2(connection, query_atracacao)"
   ]
  },
  {
   "cell_type": "code",
   "execution_count": null,
   "metadata": {},
   "outputs": [],
   "source": [
    "query_criar_tabela_atracacao=\"\"\"\n",
    "CREATE TABLE atracacao2018 (\n",
    "  id_atracacao INT,\n",
    "  cdtup CHAR(80),\n",
    "  idberco CHAR(80),\n",
    "  berco CHAR(80),\n",
    "  porto_atracacao VARCHAR(100),\n",
    "  apelido_instalacao_portuaria CHAR(80),\n",
    "  complexo_portuario CHAR(80),\n",
    "  tipo_da_autoridade_portuaria CHAR(80),\n",
    "  data_atracacao CHAR(80),\n",
    "  data_chegada CHAR(80),\n",
    "  data_desatracacao CHAR(80),\n",
    "  data_inicio_operacao CHAR(80),\n",
    "  Data_Termino_Operacao CHAR(80),\n",
    "  Ano INT,\n",
    "  Mes CHAR(80),\n",
    "  Tipo_de_Operacao CHAR(80),\n",
    "  Tipo_de_Navegacao_da_Atracacao CHAR(80),\n",
    "  Nacionalidade_do_Armador CHAR(80),\n",
    "  FlagMCOperacaoAtracacao INT,\n",
    "  Terminal CHAR(80),\n",
    "  Municipio CHAR(80),\n",
    "  UF CHAR(80),\n",
    "  SGUF CHAR(80),\n",
    "  Regiao_Geografica CHAR(80),\n",
    "  No_da_Capitania INT\n",
    "  );\n",
    "\"\"\"\n",
    "connection = create_db_connection(\"localhost\", \"root\", pw, \"FIEC\")\n",
    "execute_query(connection, query_criar_tabela_atracacao)"
   ]
  },
  {
   "cell_type": "code",
   "execution_count": null,
   "metadata": {},
   "outputs": [],
   "source": [
    "query_atracacao='''\n",
    "LOAD DATA INFILE 'C:/ProgramData/MySQL/MySQL Server 8.0/Uploads/atracacao/2018Atracacao.txt' \n",
    "\n",
    "INTO TABLE atracacao2018\n",
    "\n",
    "FIELDS TERMINATED BY ';'\n",
    "\n",
    "LINES TERMINATED BY '\\n'\n",
    "\n",
    "IGNORE 1 LINES\n",
    "\n",
    "(id_atracacao,cdtup,IDBerco,Berco,Porto_Atracacao,Apelido_Instalacao_Portuaria,Complexo_Portuario,Tipo_da_Autoridade_Portuaria,Data_Atracacao,Data_Chegada,Data_Desatracacao,Data_Inicio_Operacao,Data_Termino_Operacao,Ano,Mes,Tipo_de_Operacao,Tipo_de_Navegacao_da_Atracacao,Nacionalidade_do_Armador,FlagMCOperacaoAtracacao,Terminal,Municipio,UF,SGUF,Regiao_Geografica, @vNo_da_Capitania)\n",
    "SET No_da_Capitania = NULLIF(@vNo_da_Capitania,'');\n",
    "\n",
    "'''\n",
    "\n",
    "connection = create_db_connection(\"localhost\", \"root\", pw, \"FIEC\")\n",
    "execute_query(connection, query_atracacao)"
   ]
  },
  {
   "cell_type": "code",
   "execution_count": null,
   "metadata": {},
   "outputs": [],
   "source": [
    "query_atracacao='''\n",
    "SELECT * FROM atracacao2018;\n",
    "\n",
    "'''\n",
    "\n",
    "connection = create_db_connection(\"localhost\", \"root\", pw, \"FIEC\")\n",
    "execute_query2(connection, query_atracacao)"
   ]
  },
  {
   "cell_type": "code",
   "execution_count": null,
   "metadata": {},
   "outputs": [],
   "source": [
    "query_criar_tabela_atracacao=\"\"\"\n",
    "CREATE TABLE atracacao2019 (\n",
    "  id_atracacao INT,\n",
    "  cdtup CHAR(80),\n",
    "  idberco CHAR(80),\n",
    "  berco CHAR(80),\n",
    "  porto_atracacao VARCHAR(100),\n",
    "  apelido_instalacao_portuaria CHAR(80),\n",
    "  complexo_portuario CHAR(80),\n",
    "  tipo_da_autoridade_portuaria CHAR(80),\n",
    "  data_atracacao CHAR(80),\n",
    "  data_chegada CHAR(80),\n",
    "  data_desatracacao CHAR(80),\n",
    "  data_inicio_operacao CHAR(80),\n",
    "  Data_Termino_Operacao CHAR(80),\n",
    "  Ano INT,\n",
    "  Mes CHAR(80),\n",
    "  Tipo_de_Operacao CHAR(80),\n",
    "  Tipo_de_Navegacao_da_Atracacao CHAR(80),\n",
    "  Nacionalidade_do_Armador CHAR(80),\n",
    "  FlagMCOperacaoAtracacao INT,\n",
    "  Terminal CHAR(80),\n",
    "  Municipio CHAR(80),\n",
    "  UF CHAR(80),\n",
    "  SGUF CHAR(80),\n",
    "  Regiao_Geografica CHAR(80),\n",
    "  No_da_Capitania INT\n",
    "  );\n",
    "\"\"\"\n",
    "connection = create_db_connection(\"localhost\", \"root\", pw, \"FIEC\")\n",
    "execute_query(connection, query_criar_tabela_atracacao)"
   ]
  },
  {
   "cell_type": "code",
   "execution_count": null,
   "metadata": {},
   "outputs": [],
   "source": [
    "query_atracacao='''\n",
    "LOAD DATA INFILE 'C:/ProgramData/MySQL/MySQL Server 8.0/Uploads/atracacao/2019Atracacao.txt' \n",
    "\n",
    "INTO TABLE atracacao2019\n",
    "\n",
    "FIELDS TERMINATED BY ';'\n",
    "\n",
    "LINES TERMINATED BY '\\n'\n",
    "\n",
    "IGNORE 1 LINES\n",
    "\n",
    "(id_atracacao,cdtup,IDBerco,Berco,Porto_Atracacao,Apelido_Instalacao_Portuaria,Complexo_Portuario,Tipo_da_Autoridade_Portuaria,Data_Atracacao,Data_Chegada,Data_Desatracacao,Data_Inicio_Operacao,Data_Termino_Operacao,Ano,Mes,Tipo_de_Operacao,Tipo_de_Navegacao_da_Atracacao,Nacionalidade_do_Armador,FlagMCOperacaoAtracacao,Terminal,Municipio,UF,SGUF,Regiao_Geografica, @vNo_da_Capitania)\n",
    "SET No_da_Capitania = NULLIF(@vNo_da_Capitania,'');\n",
    "\n",
    "'''\n",
    "\n",
    "connection = create_db_connection(\"localhost\", \"root\", pw, \"FIEC\")\n",
    "execute_query(connection, query_atracacao)"
   ]
  },
  {
   "cell_type": "code",
   "execution_count": null,
   "metadata": {},
   "outputs": [],
   "source": [
    "query_atracacao='''\n",
    "SELECT * FROM atracacao2019;\n",
    "\n",
    "'''\n",
    "\n",
    "connection = create_db_connection(\"localhost\", \"root\", pw, \"FIEC\")\n",
    "execute_query2(connection, query_atracacao)"
   ]
  },
  {
   "cell_type": "code",
   "execution_count": null,
   "metadata": {},
   "outputs": [],
   "source": [
    "query_criar_tabela_tempo=\"\"\"\n",
    "CREATE TABLE tempo2017 (\n",
    "  id_atracacao INT,\n",
    "  T_espera_atracacao INT,\n",
    "  T_espera_inicio_op INT,\n",
    "  T_operacao INT,\n",
    "  T_espera_desatracacao INT,\n",
    "  T_atracado INT,\n",
    "  T_estadia INT\n",
    "  );\n",
    "\"\"\"\n",
    "connection = create_db_connection(\"localhost\", \"root\", pw, \"FIEC\")\n",
    "execute_query(connection, query_criar_tabela_atracacao)"
   ]
  },
  {
   "cell_type": "code",
   "execution_count": null,
   "metadata": {},
   "outputs": [],
   "source": [
    "query_tempo='''\n",
    "LOAD DATA INFILE 'C:/ProgramData/MySQL/MySQL Server 8.0/Uploads/tempo/2017Tempo.txt' \n",
    "\n",
    "INTO TABLE tempo2017\n",
    "\n",
    "FIELDS TERMINATED BY ';'\n",
    "\n",
    "LINES TERMINATED BY '\\n'\n",
    "\n",
    "IGNORE 1 LINES;\n",
    "\n",
    "'''\n",
    "\n",
    "connection = create_db_connection(\"localhost\", \"root\", pw, \"FIEC\")\n",
    "execute_query(connection, query_atracacao)"
   ]
  },
  {
   "cell_type": "code",
   "execution_count": null,
   "metadata": {},
   "outputs": [],
   "source": [
    "query_criar_tabela_tempo=\"\"\"\n",
    "CREATE TABLE tempo2018 (\n",
    "  id_atracacao INT,\n",
    "  T_espera_atracacao INT,\n",
    "  T_espera_inicio_op INT,\n",
    "  T_operacao INT,\n",
    "  T_espera_desatracacao INT,\n",
    "  T_atracado INT,\n",
    "  T_estadia INT\n",
    "  );\n",
    "\"\"\"\n",
    "connection = create_db_connection(\"localhost\", \"root\", pw, \"FIEC\")\n",
    "execute_query(connection, query_criar_tabela_tempo)"
   ]
  },
  {
   "cell_type": "code",
   "execution_count": null,
   "metadata": {},
   "outputs": [],
   "source": [
    "query_tempo='''\n",
    "LOAD DATA INFILE 'C:/ProgramData/MySQL/MySQL Server 8.0/Uploads/tempo/2018Tempo.txt' \n",
    "\n",
    "INTO TABLE tempo2018\n",
    "\n",
    "FIELDS TERMINATED BY ';'\n",
    "\n",
    "LINES TERMINATED BY '\\n'\n",
    "\n",
    "IGNORE 1 LINES;\n",
    "\n",
    "'''\n",
    "\n",
    "connection = create_db_connection(\"localhost\", \"root\", pw, \"FIEC\")\n",
    "execute_query(connection, query_tempo)"
   ]
  },
  {
   "cell_type": "code",
   "execution_count": null,
   "metadata": {},
   "outputs": [],
   "source": [
    "query_criar_tabela_tempo=\"\"\"\n",
    "CREATE TABLE tempo2019 (\n",
    "  id_atracacao INT,\n",
    "  T_espera_atracacao INT,\n",
    "  T_espera_inicio_op INT,\n",
    "  T_operacao INT,\n",
    "  T_espera_desatracacao INT,\n",
    "  T_atracado INT,\n",
    "  T_estadia INT\n",
    "  );\n",
    "\"\"\"\n",
    "connection = create_db_connection(\"localhost\", \"root\", pw, \"FIEC\")\n",
    "execute_query(connection, query_criar_tabela_tempo)"
   ]
  },
  {
   "cell_type": "code",
   "execution_count": null,
   "metadata": {},
   "outputs": [],
   "source": [
    "query_tempo='''\n",
    "LOAD DATA INFILE 'C:/ProgramData/MySQL/MySQL Server 8.0/Uploads/tempo/2019Tempo.txt' \n",
    "\n",
    "INTO TABLE tempo2019\n",
    "\n",
    "FIELDS TERMINATED BY ';'\n",
    "\n",
    "LINES TERMINATED BY '\\n'\n",
    "\n",
    "IGNORE 1 LINES;\n",
    "\n",
    "'''\n",
    "\n",
    "connection = create_db_connection(\"localhost\", \"root\", pw, \"FIEC\")\n",
    "execute_query(connection, query_tempo)"
   ]
  },
  {
   "cell_type": "code",
   "execution_count": null,
   "metadata": {},
   "outputs": [],
   "source": [
    "query_atracacao='''\n",
    "SELECT * FROM tempo2019;\n",
    "\n",
    "'''\n",
    "\n",
    "connection = create_db_connection(\"localhost\", \"root\", pw, \"FIEC\")\n",
    "execute_query2(connection, query_atracacao)"
   ]
  },
  {
   "cell_type": "code",
   "execution_count": null,
   "metadata": {},
   "outputs": [],
   "source": [
    "query_merge='''\n",
    "create table atracacao_tempo2017\n",
    "(\n",
    "   SELECT *\n",
    "FROM\n",
    "    atracacao2017,tempo2017\n",
    "WHERE \n",
    "    atracacao2017.id_atracacao = tempo2017.id_atracacao);\n",
    "'''\n",
    "\n",
    "connection = create_db_connection(\"localhost\", \"root\", pw, \"FIEC\")\n",
    "execute_query2(connection, query_merge)"
   ]
  },
  {
   "cell_type": "code",
   "execution_count": null,
   "metadata": {},
   "outputs": [],
   "source": [
    "query_merge='''\n",
    "create table atracacao_tempo2018\n",
    "(\n",
    "   SELECT *\n",
    "FROM\n",
    "    atracacao2018,tempo2018\n",
    "WHERE \n",
    "    atracacao2018.id_atracacao = tempo2018.id_atracacao);\n",
    "'''\n",
    "\n",
    "connection = create_db_connection(\"localhost\", \"root\", pw, \"FIEC\")\n",
    "execute_query2(connection, query_merge)"
   ]
  },
  {
   "cell_type": "code",
   "execution_count": null,
   "metadata": {},
   "outputs": [],
   "source": [
    "query_merge='''\n",
    "create table atracacao_tempo2019\n",
    "(\n",
    "   SELECT *\n",
    "FROM\n",
    "    atracacao2019,tempo2019\n",
    "WHERE \n",
    "    atracacao2017.id_atracacao = tempo2017.id_atracacao);\n",
    "'''\n",
    "\n",
    "connection = create_db_connection(\"localhost\", \"root\", pw, \"FIEC\")\n",
    "execute_query2(connection, query_merge)"
   ]
  },
  {
   "cell_type": "code",
   "execution_count": null,
   "metadata": {},
   "outputs": [],
   "source": [
    "query_merge='''\n",
    "create table atracacao_fato\n",
    "(\n",
    "   SELECT *\n",
    "FROM\n",
    "    atracacao_tempo2017,atracacao_tempo2018,atracacao_tempo2019)\n",
    "'''\n",
    "\n",
    "connection = create_db_connection(\"localhost\", \"root\", pw, \"FIEC\")\n",
    "execute_query2(connection, query_merge)"
   ]
  },
  {
   "cell_type": "code",
   "execution_count": null,
   "metadata": {},
   "outputs": [],
   "source": [
    "query_tempo='''\n",
    "DROP TABLE atracacao2017;\n",
    "\n",
    "'''\n",
    "\n",
    "connection = create_db_connection(\"localhost\", \"root\", pw, \"FIEC\")\n",
    "execute_query(connection, query_tempo)"
   ]
  },
  {
   "cell_type": "code",
   "execution_count": null,
   "metadata": {},
   "outputs": [],
   "source": [
    "query_tempo='''\n",
    "DROP TABLE atracacao2018;\n",
    "\n",
    "'''\n",
    "\n",
    "connection = create_db_connection(\"localhost\", \"root\", pw, \"FIEC\")\n",
    "execute_query(connection, query_tempo)"
   ]
  },
  {
   "cell_type": "code",
   "execution_count": null,
   "metadata": {},
   "outputs": [],
   "source": [
    "query_tempo='''\n",
    "DROP TABLE atracacao2019;\n",
    "\n",
    "'''\n",
    "\n",
    "connection = create_db_connection(\"localhost\", \"root\", pw, \"FIEC\")\n",
    "execute_query(connection, query_tempo)"
   ]
  },
  {
   "cell_type": "code",
   "execution_count": null,
   "metadata": {},
   "outputs": [],
   "source": [
    "query_tempo='''\n",
    "DROP TABLE tempo2017;\n",
    "\n",
    "'''\n",
    "\n",
    "connection = create_db_connection(\"localhost\", \"root\", pw, \"FIEC\")\n",
    "execute_query(connection, query_tempo)"
   ]
  },
  {
   "cell_type": "code",
   "execution_count": null,
   "metadata": {},
   "outputs": [],
   "source": [
    "query_tempo='''\n",
    "DROP TABLE tempo2018;\n",
    "\n",
    "'''\n",
    "\n",
    "connection = create_db_connection(\"localhost\", \"root\", pw, \"FIEC\")\n",
    "execute_query(connection, query_tempo)"
   ]
  },
  {
   "cell_type": "code",
   "execution_count": null,
   "metadata": {},
   "outputs": [],
   "source": [
    "query_tempo='''\n",
    "DROP TABLE tempo2019;\n",
    "\n",
    "'''\n",
    "\n",
    "connection = create_db_connection(\"localhost\", \"root\", pw, \"FIEC\")\n",
    "execute_query(connection, query_tempo)"
   ]
  }
 ],
 "metadata": {
  "kernelspec": {
   "display_name": "Python 3",
   "language": "python",
   "name": "python3"
  },
  "language_info": {
   "codemirror_mode": {
    "name": "ipython",
    "version": 3
   },
   "file_extension": ".py",
   "mimetype": "text/x-python",
   "name": "python",
   "nbconvert_exporter": "python",
   "pygments_lexer": "ipython3",
   "version": "3.7.4"
  }
 },
 "nbformat": 4,
 "nbformat_minor": 4
}
